{
 "cells": [
  {
   "cell_type": "code",
   "execution_count": 1,
   "metadata": {},
   "outputs": [],
   "source": [
    "import pandas as pd\n",
    "from sklearn.model_selection import KFold\n",
    "from sklearn.model_selection import train_test_split, cross_val_score\n",
    "from sklearn.ensemble import RandomForestClassifier\n",
    "from sklearn.metrics import accuracy_score\n",
    "import warnings\n",
    "from sklearn.utils import shuffle\n",
    "from sklearn.metrics import confusion_matrix, precision_score, recall_score\n",
    "from imblearn.over_sampling import SMOTE\n",
    "warnings.filterwarnings(\"ignore\")\n",
    "import matplotlib.pyplot as plt"
   ]
  },
  {
   "cell_type": "code",
   "execution_count": 2,
   "metadata": {},
   "outputs": [],
   "source": [
    "data = pd.read_csv('Data.csv')"
   ]
  },
  {
   "cell_type": "code",
   "execution_count": 3,
   "metadata": {},
   "outputs": [],
   "source": [
    "data = shuffle(data)"
   ]
  },
  {
   "cell_type": "code",
   "execution_count": 4,
   "metadata": {},
   "outputs": [
    {
     "data": {
      "text/html": [
       "<div>\n",
       "<style scoped>\n",
       "    .dataframe tbody tr th:only-of-type {\n",
       "        vertical-align: middle;\n",
       "    }\n",
       "\n",
       "    .dataframe tbody tr th {\n",
       "        vertical-align: top;\n",
       "    }\n",
       "\n",
       "    .dataframe thead th {\n",
       "        text-align: right;\n",
       "    }\n",
       "</style>\n",
       "<table border=\"1\" class=\"dataframe\">\n",
       "  <thead>\n",
       "    <tr style=\"text-align: right;\">\n",
       "      <th></th>\n",
       "      <th>confidence</th>\n",
       "      <th>triples</th>\n",
       "      <th>abstract</th>\n",
       "      <th>body</th>\n",
       "      <th>Introduction</th>\n",
       "      <th>Background</th>\n",
       "      <th>Materials and methods</th>\n",
       "      <th>Discussion</th>\n",
       "      <th>Conclusions</th>\n",
       "      <th>Length of triple</th>\n",
       "      <th>Classification</th>\n",
       "    </tr>\n",
       "  </thead>\n",
       "  <tbody>\n",
       "    <tr>\n",
       "      <th>12584</th>\n",
       "      <td>1.0</td>\n",
       "      <td>increased CB2 mRNA expression suggest activiti...</td>\n",
       "      <td>0</td>\n",
       "      <td>True</td>\n",
       "      <td>0</td>\n",
       "      <td>0</td>\n",
       "      <td>0</td>\n",
       "      <td>0</td>\n",
       "      <td>0</td>\n",
       "      <td>92</td>\n",
       "      <td>0</td>\n",
       "    </tr>\n",
       "    <tr>\n",
       "      <th>104227</th>\n",
       "      <td>1.0</td>\n",
       "      <td>PEDF reverse effect of endo thelial cells on s...</td>\n",
       "      <td>0</td>\n",
       "      <td>True</td>\n",
       "      <td>0</td>\n",
       "      <td>0</td>\n",
       "      <td>0</td>\n",
       "      <td>0</td>\n",
       "      <td>0</td>\n",
       "      <td>55</td>\n",
       "      <td>0</td>\n",
       "    </tr>\n",
       "    <tr>\n",
       "      <th>21874</th>\n",
       "      <td>1.0</td>\n",
       "      <td>levels are where observed</td>\n",
       "      <td>0</td>\n",
       "      <td>True</td>\n",
       "      <td>0</td>\n",
       "      <td>0</td>\n",
       "      <td>0</td>\n",
       "      <td>0</td>\n",
       "      <td>0</td>\n",
       "      <td>25</td>\n",
       "      <td>0</td>\n",
       "    </tr>\n",
       "    <tr>\n",
       "      <th>243361</th>\n",
       "      <td>1.0</td>\n",
       "      <td>mechanisms However remain to deeply elucidated</td>\n",
       "      <td>0</td>\n",
       "      <td>True</td>\n",
       "      <td>0</td>\n",
       "      <td>0</td>\n",
       "      <td>0</td>\n",
       "      <td>0</td>\n",
       "      <td>0</td>\n",
       "      <td>46</td>\n",
       "      <td>0</td>\n",
       "    </tr>\n",
       "    <tr>\n",
       "      <th>212220</th>\n",
       "      <td>1.0</td>\n",
       "      <td>their functions are generally associated with ...</td>\n",
       "      <td>0</td>\n",
       "      <td>True</td>\n",
       "      <td>0</td>\n",
       "      <td>0</td>\n",
       "      <td>0</td>\n",
       "      <td>0</td>\n",
       "      <td>0</td>\n",
       "      <td>73</td>\n",
       "      <td>0</td>\n",
       "    </tr>\n",
       "  </tbody>\n",
       "</table>\n",
       "</div>"
      ],
      "text/plain": [
       "        confidence                                            triples  \\\n",
       "12584          1.0  increased CB2 mRNA expression suggest activiti...   \n",
       "104227         1.0  PEDF reverse effect of endo thelial cells on s...   \n",
       "21874          1.0                          levels are where observed   \n",
       "243361         1.0     mechanisms However remain to deeply elucidated   \n",
       "212220         1.0  their functions are generally associated with ...   \n",
       "\n",
       "        abstract  body  Introduction  Background  Materials and methods  \\\n",
       "12584          0  True             0           0                      0   \n",
       "104227         0  True             0           0                      0   \n",
       "21874          0  True             0           0                      0   \n",
       "243361         0  True             0           0                      0   \n",
       "212220         0  True             0           0                      0   \n",
       "\n",
       "        Discussion  Conclusions Length of triple  Classification  \n",
       "12584            0            0               92               0  \n",
       "104227           0            0               55               0  \n",
       "21874            0            0               25               0  \n",
       "243361           0            0               46               0  \n",
       "212220           0            0               73               0  "
      ]
     },
     "execution_count": 4,
     "metadata": {},
     "output_type": "execute_result"
    }
   ],
   "source": [
    "data.tail()"
   ]
  },
  {
   "cell_type": "code",
   "execution_count": 5,
   "metadata": {},
   "outputs": [],
   "source": [
    "def get_value_count(feature):\n",
    "    return data[feature].value_counts()"
   ]
  },
  {
   "cell_type": "code",
   "execution_count": 6,
   "metadata": {},
   "outputs": [
    {
     "name": "stdout",
     "output_type": "stream",
     "text": [
      "<class 'pandas.core.frame.DataFrame'>\n",
      "Int64Index: 263463 entries, 10479 to 212220\n",
      "Data columns (total 11 columns):\n",
      " #   Column                 Non-Null Count   Dtype  \n",
      "---  ------                 --------------   -----  \n",
      " 0   confidence             263463 non-null  float64\n",
      " 1   triples                263463 non-null  object \n",
      " 2   abstract               263463 non-null  int64  \n",
      " 3   body                   263463 non-null  bool   \n",
      " 4   Introduction           263463 non-null  int64  \n",
      " 5   Background             263463 non-null  int64  \n",
      " 6   Materials and methods  263463 non-null  int64  \n",
      " 7   Discussion             263463 non-null  int64  \n",
      " 8   Conclusions            263463 non-null  int64  \n",
      " 9   Length of triple       263463 non-null  object \n",
      " 10  Classification         263463 non-null  int64  \n",
      "dtypes: bool(1), float64(1), int64(7), object(2)\n",
      "memory usage: 22.4+ MB\n"
     ]
    }
   ],
   "source": [
    "data.info()"
   ]
  },
  {
   "cell_type": "code",
   "execution_count": 7,
   "metadata": {},
   "outputs": [],
   "source": [
    "def get_unique_data(feature):\n",
    "    return data[feature].unique()"
   ]
  },
  {
   "cell_type": "code",
   "execution_count": 9,
   "metadata": {},
   "outputs": [
    {
     "data": {
      "text/plain": [
       "array(['31', 32, 33, '35', '79', '36', '20', '46', '91', '70', 41, '63',\n",
       "       '112', '61', '50', '39', '59', '28', 50, '55', 74, '80', '120',\n",
       "       '33', '29', '84', '26', '60', 71, '62', '47', '65', 20, '58', '43',\n",
       "       '66', 38, 37, '81', '41', '64', '67', '89', '57', '100', 25, 24,\n",
       "       21, '48', '49', '34', '75', '56', 44, 113, '69', 58, '40', 103,\n",
       "       '77', 40, '53', 61, '128', '32', '24', '52', '98', 28, 92, 79,\n",
       "       '44', 76, 45, 54, '37', 80, '87', '86', 73, 53, '73', '38', '27',\n",
       "       '71', 43, 49, '19', 62, '76', 72, '23', 48, '51', '25', 36, '90',\n",
       "       '78', '116', '42', '110', 90, 59, '45', '22', 46, '21', '54', '85',\n",
       "       34, '82', 31, 51, 95, 65, '30', 55, 64, 87, 70, '103', '68', 131,\n",
       "       23, 88, 67, 39, '97', 89, 118, '109', 26, '95', '18', 12, 18, 82,\n",
       "       '93', '106', 22, 56, 19, '104', 69, '96', 52, '126', 112, '13', 42,\n",
       "       '101', '15', 83, 94, 27, 77, 35, 60, 57, 30, 17, '121', '94', 86,\n",
       "       '129', '74', '72', 66, '107', '12', '14', 84, 99, 101, '118',\n",
       "       '122', '113', 63, 68, '115', 109, 78, 93, '105', 124, 47, 75, '83',\n",
       "       '#NAME?', '92', '131', 114, 128, '114', '16', '108', 152, 29,\n",
       "       '111', '88', 102, '119', 119, '156', '102', 85, '124', '125',\n",
       "       '133', 111, '174', 104, 143, '123', 105, 81, '154', 106, '17', 117,\n",
       "       '117', 91, 140, 107, '99', 14, 133, '150', '130', '148', '164',\n",
       "       130, '142', 97, '11', 15, 139, 13, 142, 98, '136', 127, '141', 122,\n",
       "       108, 116, 96, '151', '137', 16, '155', '159', 100, '132', '146',\n",
       "       '145', '127', 144, '138', 146, '134', '140', '144', '160', '143',\n",
       "       120, 134, '167', 110, 132, '139', '149', 162, '158', 121, 11, 125,\n",
       "       147, '170', 145, '157', '165', '135', '152', '162', '168', 159,\n",
       "       115, '153', '177', 123, '161', 151, 136, 141, 138, 149, 126, '147',\n",
       "       10, 129, 137, 156, '173', '179', 170, '163', 135, '184', 171,\n",
       "       '176', '9', 158, '169', '10', 150, 157, 174, 178, 161, '172', 155,\n",
       "       '183', '182', '171', 153, '175', '180', 168, 7, '166', 194, 177,\n",
       "       '178', '199', 179, '205', 148, 9, '569', 154, '540', 187, '225',\n",
       "       '181', '8', 165, 172, '187', '193', '188', 253, 163, 8, 169, '214',\n",
       "       '233', '302', '196', '185', '186', '547'], dtype=object)"
      ]
     },
     "execution_count": 9,
     "metadata": {},
     "output_type": "execute_result"
    }
   ],
   "source": [
    "get_unique_data('Length of triple')"
   ]
  },
  {
   "cell_type": "markdown",
   "metadata": {},
   "source": [
    "### Since the data contains a categorical data in the dataset which will create problem so we have to replace it with zero"
   ]
  },
  {
   "cell_type": "code",
   "execution_count": 10,
   "metadata": {},
   "outputs": [],
   "source": [
    "name_triple = {'#NAME?':0}\n",
    "data.loc[data['Length of triple'] == '#NAME?', 'Length of triple'] = 0"
   ]
  },
  {
   "cell_type": "code",
   "execution_count": 11,
   "metadata": {},
   "outputs": [],
   "source": [
    "unique_triples_data = data['Length of triple'].unique()"
   ]
  },
  {
   "cell_type": "markdown",
   "metadata": {},
   "source": [
    "### Checking for missing values"
   ]
  },
  {
   "cell_type": "code",
   "execution_count": 12,
   "metadata": {},
   "outputs": [
    {
     "data": {
      "text/plain": [
       "confidence               0\n",
       "triples                  0\n",
       "abstract                 0\n",
       "body                     0\n",
       "Introduction             0\n",
       "Background               0\n",
       "Materials and methods    0\n",
       "Discussion               0\n",
       "Conclusions              0\n",
       "Length of triple         0\n",
       "Classification           0\n",
       "dtype: int64"
      ]
     },
     "execution_count": 12,
     "metadata": {},
     "output_type": "execute_result"
    }
   ],
   "source": [
    "data.isnull().sum()"
   ]
  },
  {
   "cell_type": "code",
   "execution_count": 13,
   "metadata": {},
   "outputs": [],
   "source": [
    "features = ['Introduction','Background', 'Materials and methods', 'Discussion','Conclusions','Length of triple']"
   ]
  },
  {
   "cell_type": "code",
   "execution_count": 14,
   "metadata": {},
   "outputs": [],
   "source": [
    "X = data[features]\n",
    "y = data[['Classification']]"
   ]
  },
  {
   "cell_type": "code",
   "execution_count": 15,
   "metadata": {},
   "outputs": [],
   "source": [
    "X_train, X_test, y_train, y_test = train_test_split(X,y, test_size = 0.2)"
   ]
  },
  {
   "cell_type": "code",
   "execution_count": 16,
   "metadata": {},
   "outputs": [],
   "source": [
    "model = RandomForestClassifier(n_estimators = 20)"
   ]
  },
  {
   "cell_type": "code",
   "execution_count": 17,
   "metadata": {},
   "outputs": [
    {
     "data": {
      "text/plain": [
       "RandomForestClassifier(n_estimators=20)"
      ]
     },
     "execution_count": 17,
     "metadata": {},
     "output_type": "execute_result"
    }
   ],
   "source": [
    "model.fit(X_train, y_train)"
   ]
  },
  {
   "cell_type": "code",
   "execution_count": 18,
   "metadata": {},
   "outputs": [],
   "source": [
    "preds = model.predict(X_test)"
   ]
  },
  {
   "cell_type": "code",
   "execution_count": 19,
   "metadata": {},
   "outputs": [],
   "source": [
    "accuracy = accuracy_score(y_test,preds)"
   ]
  },
  {
   "cell_type": "code",
   "execution_count": 20,
   "metadata": {},
   "outputs": [
    {
     "name": "stdout",
     "output_type": "stream",
     "text": [
      "Accuracy of the model 99.78934583341241\n"
     ]
    }
   ],
   "source": [
    "print('Accuracy of the model {}'.format(accuracy*100))"
   ]
  },
  {
   "cell_type": "markdown",
   "metadata": {},
   "source": [
    "### Since the accuracy of our model is almost perfect, we need to look for whether the data is balanced or not"
   ]
  },
  {
   "cell_type": "code",
   "execution_count": 21,
   "metadata": {},
   "outputs": [
    {
     "data": {
      "text/plain": [
       "0    262905\n",
       "1       558\n",
       "Name: Classification, dtype: int64"
      ]
     },
     "execution_count": 21,
     "metadata": {},
     "output_type": "execute_result"
    }
   ],
   "source": [
    "get_value_count('Classification')"
   ]
  },
  {
   "cell_type": "markdown",
   "metadata": {},
   "source": [
    "### So here the data is highly imbalanced, and definitely the precision, recall score would be low then"
   ]
  },
  {
   "cell_type": "code",
   "execution_count": 22,
   "metadata": {},
   "outputs": [
    {
     "data": {
      "text/plain": [
       "(0.6, 0.12931034482758622)"
      ]
     },
     "execution_count": 22,
     "metadata": {},
     "output_type": "execute_result"
    }
   ],
   "source": [
    "precision_score(y_test,preds),recall_score(y_test,preds)"
   ]
  },
  {
   "cell_type": "markdown",
   "metadata": {},
   "source": [
    "### We have the worst recall score and slightly fine precision score, it means the model is not working fine at all for the ones in the dataset, for this we need to balance the dataset first"
   ]
  },
  {
   "cell_type": "markdown",
   "metadata": {},
   "source": [
    "## SMOTE Analysis"
   ]
  },
  {
   "cell_type": "code",
   "execution_count": 23,
   "metadata": {},
   "outputs": [],
   "source": [
    "over_sample = SMOTE()\n",
    "X,y = over_sample.fit_resample(X,y)"
   ]
  },
  {
   "cell_type": "code",
   "execution_count": 24,
   "metadata": {},
   "outputs": [
    {
     "data": {
      "text/plain": [
       "1    262905\n",
       "0    262905\n",
       "Name: Classification, dtype: int64"
      ]
     },
     "execution_count": 24,
     "metadata": {},
     "output_type": "execute_result"
    }
   ],
   "source": [
    "y['Classification'].value_counts()"
   ]
  },
  {
   "cell_type": "code",
   "execution_count": 25,
   "metadata": {},
   "outputs": [],
   "source": [
    "X_train, X_test, y_train, y_test = train_test_split(X,y, test_size = 0.2)"
   ]
  },
  {
   "cell_type": "code",
   "execution_count": 26,
   "metadata": {},
   "outputs": [],
   "source": [
    "model = RandomForestClassifier(n_estimators = 20)"
   ]
  },
  {
   "cell_type": "code",
   "execution_count": 27,
   "metadata": {},
   "outputs": [
    {
     "data": {
      "text/plain": [
       "RandomForestClassifier(n_estimators=20)"
      ]
     },
     "execution_count": 27,
     "metadata": {},
     "output_type": "execute_result"
    }
   ],
   "source": [
    "model.fit(X_train, y_train)"
   ]
  },
  {
   "cell_type": "code",
   "execution_count": 28,
   "metadata": {},
   "outputs": [],
   "source": [
    "preds = model.predict(X_test)"
   ]
  },
  {
   "cell_type": "code",
   "execution_count": 29,
   "metadata": {},
   "outputs": [],
   "source": [
    "accuracy = accuracy_score(y_test,preds)"
   ]
  },
  {
   "cell_type": "code",
   "execution_count": 30,
   "metadata": {},
   "outputs": [
    {
     "name": "stdout",
     "output_type": "stream",
     "text": [
      "Accuracy of the model 93.74583975200167\n"
     ]
    }
   ],
   "source": [
    "print('Accuracy of the model {}'.format(accuracy*100))"
   ]
  },
  {
   "cell_type": "markdown",
   "metadata": {},
   "source": [
    "### The accuracy of the model has somehow fallen but thats not what we are looking for, we need to check the values for precision and recall"
   ]
  },
  {
   "cell_type": "code",
   "execution_count": 31,
   "metadata": {},
   "outputs": [
    {
     "data": {
      "text/plain": [
       "(0.9819812234244095, 0.8907601535200779)"
      ]
     },
     "execution_count": 31,
     "metadata": {},
     "output_type": "execute_result"
    }
   ],
   "source": [
    "precision_score(y_test,preds), recall_score(y_test,preds)"
   ]
  },
  {
   "cell_type": "markdown",
   "metadata": {},
   "source": [
    "### Perfect! So the scores for the precision, recall scores are much better now so this model can be used for the prediction of the unseen dataset now with confidence"
   ]
  },
  {
   "cell_type": "markdown",
   "metadata": {},
   "source": [
    "### Applying KFold Cross Validation"
   ]
  },
  {
   "cell_type": "code",
   "execution_count": 32,
   "metadata": {},
   "outputs": [],
   "source": [
    "kf = KFold(n_splits=5)"
   ]
  },
  {
   "cell_type": "code",
   "execution_count": 33,
   "metadata": {},
   "outputs": [
    {
     "name": "stdout",
     "output_type": "stream",
     "text": [
      "Scores for each fold are: [0.96779255 0.96735513 0.93807649 0.89111086 0.89127251]\n",
      "Average score: 0.93\n"
     ]
    }
   ],
   "source": [
    "score = cross_val_score(RandomForestClassifier(random_state= 42), X, y, cv= kf, scoring=\"accuracy\")\n",
    "print(f'Scores for each fold are: {score}')\n",
    "print(f'Average score: {\"{:.2f}\".format(score.mean())}')"
   ]
  },
  {
   "cell_type": "markdown",
   "metadata": {},
   "source": [
    "### So using KFold for 5 times, we get different values for the estimator each time and then mean value for the accuracy comes out to be 93% which is fairly close to the first model we developed"
   ]
  },
  {
   "cell_type": "markdown",
   "metadata": {},
   "source": [
    "## Finding the features with best correlation with the classification of the model"
   ]
  },
  {
   "cell_type": "code",
   "execution_count": 34,
   "metadata": {},
   "outputs": [
    {
     "data": {
      "text/html": [
       "<div>\n",
       "<style scoped>\n",
       "    .dataframe tbody tr th:only-of-type {\n",
       "        vertical-align: middle;\n",
       "    }\n",
       "\n",
       "    .dataframe tbody tr th {\n",
       "        vertical-align: top;\n",
       "    }\n",
       "\n",
       "    .dataframe thead th {\n",
       "        text-align: right;\n",
       "    }\n",
       "</style>\n",
       "<table border=\"1\" class=\"dataframe\">\n",
       "  <thead>\n",
       "    <tr style=\"text-align: right;\">\n",
       "      <th></th>\n",
       "      <th>confidence</th>\n",
       "      <th>abstract</th>\n",
       "      <th>body</th>\n",
       "      <th>Introduction</th>\n",
       "      <th>Background</th>\n",
       "      <th>Materials and methods</th>\n",
       "      <th>Discussion</th>\n",
       "      <th>Conclusions</th>\n",
       "      <th>Classification</th>\n",
       "    </tr>\n",
       "  </thead>\n",
       "  <tbody>\n",
       "    <tr>\n",
       "      <th>confidence</th>\n",
       "      <td>1.000000</td>\n",
       "      <td>0.008048</td>\n",
       "      <td>NaN</td>\n",
       "      <td>0.014952</td>\n",
       "      <td>0.018524</td>\n",
       "      <td>0.026681</td>\n",
       "      <td>0.025700</td>\n",
       "      <td>0.015294</td>\n",
       "      <td>0.011262</td>\n",
       "    </tr>\n",
       "    <tr>\n",
       "      <th>abstract</th>\n",
       "      <td>0.008048</td>\n",
       "      <td>1.000000</td>\n",
       "      <td>NaN</td>\n",
       "      <td>0.020513</td>\n",
       "      <td>0.020194</td>\n",
       "      <td>0.000323</td>\n",
       "      <td>0.039405</td>\n",
       "      <td>0.023100</td>\n",
       "      <td>0.285921</td>\n",
       "    </tr>\n",
       "    <tr>\n",
       "      <th>body</th>\n",
       "      <td>NaN</td>\n",
       "      <td>NaN</td>\n",
       "      <td>NaN</td>\n",
       "      <td>NaN</td>\n",
       "      <td>NaN</td>\n",
       "      <td>NaN</td>\n",
       "      <td>NaN</td>\n",
       "      <td>NaN</td>\n",
       "      <td>NaN</td>\n",
       "    </tr>\n",
       "    <tr>\n",
       "      <th>Introduction</th>\n",
       "      <td>0.014952</td>\n",
       "      <td>0.020513</td>\n",
       "      <td>NaN</td>\n",
       "      <td>1.000000</td>\n",
       "      <td>0.440826</td>\n",
       "      <td>0.354870</td>\n",
       "      <td>0.362758</td>\n",
       "      <td>0.307811</td>\n",
       "      <td>0.106628</td>\n",
       "    </tr>\n",
       "    <tr>\n",
       "      <th>Background</th>\n",
       "      <td>0.018524</td>\n",
       "      <td>0.020194</td>\n",
       "      <td>NaN</td>\n",
       "      <td>0.440826</td>\n",
       "      <td>1.000000</td>\n",
       "      <td>0.361930</td>\n",
       "      <td>0.411612</td>\n",
       "      <td>0.420867</td>\n",
       "      <td>0.114339</td>\n",
       "    </tr>\n",
       "    <tr>\n",
       "      <th>Materials and methods</th>\n",
       "      <td>0.026681</td>\n",
       "      <td>0.000323</td>\n",
       "      <td>NaN</td>\n",
       "      <td>0.354870</td>\n",
       "      <td>0.361930</td>\n",
       "      <td>1.000000</td>\n",
       "      <td>0.353597</td>\n",
       "      <td>0.361603</td>\n",
       "      <td>0.067117</td>\n",
       "    </tr>\n",
       "    <tr>\n",
       "      <th>Discussion</th>\n",
       "      <td>0.025700</td>\n",
       "      <td>0.039405</td>\n",
       "      <td>NaN</td>\n",
       "      <td>0.362758</td>\n",
       "      <td>0.411612</td>\n",
       "      <td>0.353597</td>\n",
       "      <td>1.000000</td>\n",
       "      <td>0.423510</td>\n",
       "      <td>0.193460</td>\n",
       "    </tr>\n",
       "    <tr>\n",
       "      <th>Conclusions</th>\n",
       "      <td>0.015294</td>\n",
       "      <td>0.023100</td>\n",
       "      <td>NaN</td>\n",
       "      <td>0.307811</td>\n",
       "      <td>0.420867</td>\n",
       "      <td>0.361603</td>\n",
       "      <td>0.423510</td>\n",
       "      <td>1.000000</td>\n",
       "      <td>0.117373</td>\n",
       "    </tr>\n",
       "    <tr>\n",
       "      <th>Classification</th>\n",
       "      <td>0.011262</td>\n",
       "      <td>0.285921</td>\n",
       "      <td>NaN</td>\n",
       "      <td>0.106628</td>\n",
       "      <td>0.114339</td>\n",
       "      <td>0.067117</td>\n",
       "      <td>0.193460</td>\n",
       "      <td>0.117373</td>\n",
       "      <td>1.000000</td>\n",
       "    </tr>\n",
       "  </tbody>\n",
       "</table>\n",
       "</div>"
      ],
      "text/plain": [
       "                       confidence  abstract  body  Introduction  Background  \\\n",
       "confidence               1.000000  0.008048   NaN      0.014952    0.018524   \n",
       "abstract                 0.008048  1.000000   NaN      0.020513    0.020194   \n",
       "body                          NaN       NaN   NaN           NaN         NaN   \n",
       "Introduction             0.014952  0.020513   NaN      1.000000    0.440826   \n",
       "Background               0.018524  0.020194   NaN      0.440826    1.000000   \n",
       "Materials and methods    0.026681  0.000323   NaN      0.354870    0.361930   \n",
       "Discussion               0.025700  0.039405   NaN      0.362758    0.411612   \n",
       "Conclusions              0.015294  0.023100   NaN      0.307811    0.420867   \n",
       "Classification           0.011262  0.285921   NaN      0.106628    0.114339   \n",
       "\n",
       "                       Materials and methods  Discussion  Conclusions  \\\n",
       "confidence                          0.026681    0.025700     0.015294   \n",
       "abstract                            0.000323    0.039405     0.023100   \n",
       "body                                     NaN         NaN          NaN   \n",
       "Introduction                        0.354870    0.362758     0.307811   \n",
       "Background                          0.361930    0.411612     0.420867   \n",
       "Materials and methods               1.000000    0.353597     0.361603   \n",
       "Discussion                          0.353597    1.000000     0.423510   \n",
       "Conclusions                         0.361603    0.423510     1.000000   \n",
       "Classification                      0.067117    0.193460     0.117373   \n",
       "\n",
       "                       Classification  \n",
       "confidence                   0.011262  \n",
       "abstract                     0.285921  \n",
       "body                              NaN  \n",
       "Introduction                 0.106628  \n",
       "Background                   0.114339  \n",
       "Materials and methods        0.067117  \n",
       "Discussion                   0.193460  \n",
       "Conclusions                  0.117373  \n",
       "Classification               1.000000  "
      ]
     },
     "execution_count": 34,
     "metadata": {},
     "output_type": "execute_result"
    }
   ],
   "source": [
    "data.corr()"
   ]
  },
  {
   "cell_type": "code",
   "execution_count": 35,
   "metadata": {},
   "outputs": [],
   "source": [
    "import seaborn as sns"
   ]
  },
  {
   "cell_type": "code",
   "execution_count": 36,
   "metadata": {},
   "outputs": [
    {
     "data": {
      "text/plain": [
       "<matplotlib.axes._subplots.AxesSubplot at 0x18a61609e48>"
      ]
     },
     "execution_count": 36,
     "metadata": {},
     "output_type": "execute_result"
    },
    {
     "data": {
      "image/png": "[encoded data removed]",
      "text/plain": [
       "<Figure size 432x288 with 2 Axes>"
      ]
     },
     "metadata": {
      "needs_background": "light"
     },
     "output_type": "display_data"
    }
   ],
   "source": [
    "sns.heatmap(data.corr())"
   ]
  },
  {
   "cell_type": "code",
   "execution_count": 37,
   "metadata": {},
   "outputs": [
    {
     "data": {
      "text/plain": [
       "confidence               1.0\n",
       "abstract                 1.0\n",
       "body                     NaN\n",
       "Introduction             1.0\n",
       "Background               1.0\n",
       "Materials and methods    1.0\n",
       "Discussion               1.0\n",
       "Conclusions              1.0\n",
       "Classification           1.0\n",
       "dtype: float64"
      ]
     },
     "execution_count": 37,
     "metadata": {},
     "output_type": "execute_result"
    }
   ],
   "source": [
    "data.corrwith(data)"
   ]
  },
  {
   "cell_type": "code",
   "execution_count": 38,
   "metadata": {},
   "outputs": [
    {
     "name": "stdout",
     "output_type": "stream",
     "text": [
      "[ 28259.855  47895.556  31522.037 216923.61   31217.714  87782.835]\n"
     ]
    }
   ],
   "source": [
    "from sklearn.datasets import make_classification\n",
    "from sklearn.feature_selection import SelectKBest\n",
    "from numpy import set_printoptions\n",
    "from sklearn.feature_selection import f_classif\n",
    "# generate dataset\n",
    "\n",
    "test = SelectKBest(score_func=f_classif, k=4)\n",
    "fit = test.fit(X, y)\n",
    "# summarize scores\n",
    "set_printoptions(precision=3)\n",
    "scores = fit.scores_\n",
    "print(scores)"
   ]
  },
  {
   "cell_type": "code",
   "execution_count": 39,
   "metadata": {},
   "outputs": [],
   "source": [
    "feature_scores = {}\n",
    "for i in range(len(scores)):\n",
    "    feature_scores[features[i]] = scores[i]"
   ]
  },
  {
   "cell_type": "code",
   "execution_count": 40,
   "metadata": {},
   "outputs": [
    {
     "data": {
      "text/plain": [
       "{'Introduction': 28259.855442536646,\n",
       " 'Background': 47895.55590523513,\n",
       " 'Materials and methods': 31522.036846911724,\n",
       " 'Discussion': 216923.60965697182,\n",
       " 'Conclusions': 31217.71367249506,\n",
       " 'Length of triple': 87782.83514947438}"
      ]
     },
     "execution_count": 40,
     "metadata": {},
     "output_type": "execute_result"
    }
   ],
   "source": [
    "feature_scores"
   ]
  },
  {
   "cell_type": "code",
   "execution_count": 41,
   "metadata": {},
   "outputs": [],
   "source": [
    "sorted_features = dict(sorted(feature_scores.items(), key=lambda item: item[1], reverse=True))"
   ]
  },
  {
   "cell_type": "code",
   "execution_count": 42,
   "metadata": {},
   "outputs": [
    {
     "name": "stdout",
     "output_type": "stream",
     "text": [
      "Discussion Feature has the correlation score of 216923.60965697182 with the target attribute\n",
      "Length of triple Feature has the correlation score of 87782.83514947438 with the target attribute\n",
      "Background Feature has the correlation score of 47895.55590523513 with the target attribute\n",
      "Materials and methods Feature has the correlation score of 31522.036846911724 with the target attribute\n",
      "Conclusions Feature has the correlation score of 31217.71367249506 with the target attribute\n",
      "Introduction Feature has the correlation score of 28259.855442536646 with the target attribute\n"
     ]
    }
   ],
   "source": [
    "for s in sorted_features.items():\n",
    "    print('{} Feature has the correlation score of {} with the target attribute'.format(s[0],s[1]))"
   ]
  },
  {
   "cell_type": "markdown",
   "metadata": {},
   "source": [
    "### So the top features with the rank are as mentioned"
   ]
  },
  {
   "cell_type": "code",
   "execution_count": 43,
   "metadata": {},
   "outputs": [
    {
     "name": "stdout",
     "output_type": "stream",
     "text": [
      "Discussion\n",
      "Length of triple\n",
      "Background\n",
      "Materials and methods\n",
      "Conclusions\n",
      "Introduction\n"
     ]
    }
   ],
   "source": [
    "for s in sorted_features:\n",
    "    print(s)"
   ]
  },
  {
   "cell_type": "code",
   "execution_count": 45,
   "metadata": {},
   "outputs": [
    {
     "data": {
      "text/plain": [
       "<BarContainer object of 6 artists>"
      ]
     },
     "execution_count": 45,
     "metadata": {},
     "output_type": "execute_result"
    },
    {
     "data": {
      "image/png": "[encoded data removed]",
      "text/plain": [
       "<Figure size 864x576 with 1 Axes>"
      ]
     },
     "metadata": {
      "needs_background": "light"
     },
     "output_type": "display_data"
    }
   ],
   "source": [
    "plt.figure(figsize=(12,8))\n",
    "plt.title('Features Ranking')\n",
    "plt.xlabel('Features')\n",
    "plt.ylabel('Ranks')\n",
    "colors = ['r','g','b','y','c','p']\n",
    "plt.bar(features,scores,color=['r','c','g','b','y','m'])"
   ]
  },
  {
   "cell_type": "code",
   "execution_count": null,
   "metadata": {},
   "outputs": [],
   "source": []
  }
 ],
 "metadata": {
  "kernelspec": {
   "display_name": "Python 3",
   "language": "python",
   "name": "python3"
  },
  "language_info": {
   "codemirror_mode": {
    "name": "ipython",
    "version": 3
   },
   "file_extension": ".py",
   "mimetype": "text/x-python",
   "name": "python",
   "nbconvert_exporter": "python",
   "pygments_lexer": "ipython3",
   "version": "3.7.0"
  }
 },
 "nbformat": 4,
 "nbformat_minor": 4
}
